{
 "cells": [
  {
   "cell_type": "code",
   "execution_count": 60,
   "metadata": {},
   "outputs": [],
   "source": [
    "import pm4py\n",
    "import statistics as stat\n",
    "from datetime import datetime"
   ]
  },
  {
   "cell_type": "markdown",
   "metadata": {},
   "source": [
    "# Preliminary Analysis"
   ]
  },
  {
   "cell_type": "markdown",
   "metadata": {},
   "source": [
    "### Loading the Data"
   ]
  },
  {
   "cell_type": "code",
   "execution_count": 61,
   "metadata": {},
   "outputs": [
    {
     "data": {
      "application/vnd.jupyter.widget-view+json": {
       "model_id": "89d346488fba4f028c79059380c10ecc",
       "version_major": 2,
       "version_minor": 0
      },
      "text/plain": [
       "parsing log, completed traces ::   0%|          | 0/14159 [00:00<?, ?it/s]"
      ]
     },
     "metadata": {},
     "output_type": "display_data"
    },
    {
     "data": {
      "application/vnd.jupyter.widget-view+json": {
       "model_id": "e92cd5ca6db74bf5ba84bc424e100696",
       "version_major": 2,
       "version_minor": 0
      },
      "text/plain": [
       "parsing log, completed traces ::   0%|          | 0/13087 [00:00<?, ?it/s]"
      ]
     },
     "metadata": {},
     "output_type": "display_data"
    }
   ],
   "source": [
    "# Loading log 1\n",
    "log_1 = pm4py.read_xes(str(os.getcwd()) + \"/input-logs/L1.xes.gz\")\n",
    "event_log_1 = pm4py.convert_to_event_log(log_1)\n",
    "\n",
    "# Loading log 1\n",
    "log_2 = pm4py.read_xes(str(os.getcwd()) + \"/input-logs/L2.xes.gz\")\n",
    "event_log_2 = pm4py.convert_to_event_log(log_2)"
   ]
  },
  {
   "cell_type": "markdown",
   "metadata": {},
   "source": [
    "### Creating procedure for displaying statistics"
   ]
  },
  {
   "cell_type": "code",
   "execution_count": 62,
   "metadata": {},
   "outputs": [],
   "source": [
    "\"\"\"\n",
    "    Computes and prints log statistics for a given branch.\n",
    "    \n",
    "    Parameters:\n",
    "    - branch_name: Name of the branch (e.g., \"Branch 1\", \"Branch 2\").\n",
    "    - current_log: The event log for the branch.\n",
    "    - current_event_log: The event log for the branch.\n",
    "\"\"\"\n",
    "def print_log_statistics(branch_name, current_log, current_event_log):\n",
    "    \n",
    "    # Calculate case durations\n",
    "    all_case_durations = pm4py.get_all_case_durations(current_log)\n",
    "    \n",
    "    # General statistics\n",
    "    num_cases = len(current_event_log)\n",
    "    num_events = len(current_log)\n",
    "    num_variants = len(pm4py.get_variants(current_log))\n",
    "    \n",
    "    # Calculate total events\n",
    "    total_event_count = 0\n",
    "    for order in current_event_log:\n",
    "        total_event_count += len(order)\n",
    "    \n",
    "    # Calculate average number of events per case\n",
    "    average_events_per_case = total_event_count / num_variants\n",
    "    \n",
    "    # Activity and resource statistics\n",
    "    unique_activities = len(set(current_log[\"concept:name\"]))\n",
    "    unique_resources = len(set(current_log[\"org:resource\"]))\n",
    "\n",
    "    # Event timestamp information\n",
    "    earliest_event = min(current_log[\"time:timestamp\"]).strftime(\"%d.%m.%Y %H:%M:%S\")\n",
    "    latest_event = max(current_log[\"time:timestamp\"]).strftime(\"%d.%m.%Y %H:%M:%S\")\n",
    "\n",
    "    # Trace duration statistics\n",
    "    longest_trace = max(all_case_durations)\n",
    "    shortest_trace = min(all_case_durations)\n",
    "    median_trace_duration = stat.median(all_case_durations)\n",
    "    mean_trace_duration = stat.mean(all_case_durations)\n",
    "\n",
    "    # Print results\n",
    "    print(f\"--- Statistics for {branch_name} ---\")\n",
    "    print(f\"There are {num_cases} cases\")\n",
    "    print(f\"There are {num_events} events\")\n",
    "    print(f\"There are {num_variants} variants\")\n",
    "    print(f\"The average number of events per case is {average_events_per_case:.2f}\\n\")\n",
    "    print(f\"There are {unique_activities} unique activities\")\n",
    "    print(f\"There are {unique_resources} unique resources\")\n",
    "    print(f\"The earliest event happened on {earliest_event}\")\n",
    "    print(f\"The latest event happened on {latest_event}\\n\")\n",
    "    print(f\"Longest trace duration: {longest_trace:.2f}\")\n",
    "    print(f\"Shortest trace duration: {shortest_trace:.2f}\")\n",
    "    print(f\"Median trace duration: {median_trace_duration:.2f}\")\n",
    "    print(f\"Mean trace duration: {mean_trace_duration:.2f}\")"
   ]
  },
  {
   "cell_type": "markdown",
   "metadata": {},
   "source": [
    "### Statistics for Branch One"
   ]
  },
  {
   "cell_type": "code",
   "execution_count": 63,
   "metadata": {},
   "outputs": [
    {
     "name": "stdout",
     "output_type": "stream",
     "text": [
      "--- Statistics for Branch 1 ---\n",
      "There are 14159 cases\n",
      "There are 527123 events\n",
      "There are 7697 variants\n",
      "The average number of events per case is 68.48\n",
      "\n",
      "There are 25 unique activities\n",
      "There are 124 unique resources\n",
      "The earliest event happened on 01.01.2022 02:38:41\n",
      "The latest event happened on 15.06.2022 20:49:46\n",
      "\n",
      "Longest trace duration: 9934804.29\n",
      "Shortest trace duration: 281.70\n",
      "Median trace duration: 1628876.10\n",
      "Mean trace duration: 1858220.64\n"
     ]
    }
   ],
   "source": [
    "print_log_statistics(\"Branch 1\", log_1, event_log_1)"
   ]
  },
  {
   "cell_type": "markdown",
   "metadata": {},
   "source": [
    "### Statistics for Branch Two\n"
   ]
  },
  {
   "cell_type": "code",
   "execution_count": 64,
   "metadata": {},
   "outputs": [
    {
     "name": "stdout",
     "output_type": "stream",
     "text": [
      "--- Statistics for Branch 2 ---\n",
      "There are 13087 cases\n",
      "There are 262200 events\n",
      "There are 4366 variants\n",
      "The average number of events per case is 60.05\n",
      "\n",
      "There are 24 unique activities\n",
      "There are 69 unique resources\n",
      "The earliest event happened on 01.01.2022 01:38:44\n",
      "The latest event happened on 15.06.2022 18:04:54\n",
      "\n",
      "Longest trace duration: 11855936.01\n",
      "Shortest trace duration: 1.85\n",
      "Median trace duration: 69857.43\n",
      "Mean trace duration: 745078.36\n"
     ]
    }
   ],
   "source": [
    "print_log_statistics(\"Branch 2\", log_2, event_log_2)"
   ]
  },
  {
   "cell_type": "markdown",
   "metadata": {},
   "source": [
    "### Unique Activities on both Branches"
   ]
  },
  {
   "cell_type": "code",
   "execution_count": 65,
   "metadata": {},
   "outputs": [
    {
     "name": "stdout",
     "output_type": "stream",
     "text": [
      "There are 8 unique activites on branch 1\n",
      "\n",
      "There are 7 unique activites on branch 2\n"
     ]
    }
   ],
   "source": [
    "activities_branch_1 = set(log_1[\"concept:name\"])\n",
    "activities_branch_2 = set(log_2[\"concept:name\"])\n",
    "\n",
    "print(\"There are \" + str(len(activities_branch_1.difference(activities_branch_2))) + \" unique activites on branch 1\")\n",
    "print(\"\\nThere are \" + str(len(activities_branch_2.difference(activities_branch_1))) + \" unique activites on branch 2\")"
   ]
  },
  {
   "cell_type": "code",
   "execution_count": null,
   "metadata": {},
   "outputs": [],
   "source": []
  }
 ],
 "metadata": {
  "kernelspec": {
   "display_name": "Python 3 (ipykernel)",
   "language": "python",
   "name": "python3"
  },
  "language_info": {
   "codemirror_mode": {
    "name": "ipython",
    "version": 3
   },
   "file_extension": ".py",
   "mimetype": "text/x-python",
   "name": "python",
   "nbconvert_exporter": "python",
   "pygments_lexer": "ipython3",
   "version": "3.10.12"
  }
 },
 "nbformat": 4,
 "nbformat_minor": 1
}
